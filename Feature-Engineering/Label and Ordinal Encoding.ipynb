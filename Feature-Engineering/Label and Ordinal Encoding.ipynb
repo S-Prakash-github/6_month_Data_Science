{
 "cells": [
  {
   "cell_type": "code",
   "execution_count": 1,
   "id": "f5dc05a7-ebe3-4ca8-8428-bec00669b7b5",
   "metadata": {},
   "outputs": [],
   "source": [
    "import pandas as pd"
   ]
  },
  {
   "cell_type": "code",
   "execution_count": 2,
   "id": "b5520ddb-050c-4866-997a-3a90f95068d1",
   "metadata": {},
   "outputs": [],
   "source": [
    "from sklearn.preprocessing import LabelEncoder"
   ]
  },
  {
   "cell_type": "code",
   "execution_count": 3,
   "id": "2fe54cf1-c116-41bc-a90e-373657d87406",
   "metadata": {},
   "outputs": [],
   "source": [
    "df = pd.DataFrame({\n",
    "    'colour' : [ 'red','blue','green', 'red','blue','green']})"
   ]
  },
  {
   "cell_type": "code",
   "execution_count": 4,
   "id": "c7af158f-bde6-4cd8-a849-67a59fd90f64",
   "metadata": {},
   "outputs": [],
   "source": [
    "## creating an intance of labelencoder\n",
    "labelencoder = LabelEncoder()"
   ]
  },
  {
   "cell_type": "code",
   "execution_count": 7,
   "id": "4932afb1-2ca7-49d2-9979-a22bfe79f80c",
   "metadata": {},
   "outputs": [
    {
     "name": "stderr",
     "output_type": "stream",
     "text": [
      "/opt/conda/lib/python3.10/site-packages/sklearn/preprocessing/_label.py:116: DataConversionWarning: A column-vector y was passed when a 1d array was expected. Please change the shape of y to (n_samples, ), for example using ravel().\n",
      "  y = column_or_1d(y, warn=True)\n"
     ]
    },
    {
     "data": {
      "text/plain": [
       "array([2, 0, 1, 2, 0, 1])"
      ]
     },
     "execution_count": 7,
     "metadata": {},
     "output_type": "execute_result"
    }
   ],
   "source": [
    "labelencoder.fit_transform(df[['colour']])"
   ]
  },
  {
   "cell_type": "code",
   "execution_count": null,
   "id": "3369f2e3-685c-4f1a-b658-763e803a017a",
   "metadata": {},
   "outputs": [],
   "source": []
  },
  {
   "cell_type": "code",
   "execution_count": null,
   "id": "871ab40f-dabe-4367-870d-f54a278c5798",
   "metadata": {},
   "outputs": [],
   "source": []
  },
  {
   "cell_type": "code",
   "execution_count": 9,
   "id": "ce9061ce-1754-484a-9d66-483699c9976f",
   "metadata": {},
   "outputs": [],
   "source": [
    "from sklearn.preprocessing import OrdinalEncoder\n",
    "df2 = pd.DataFrame({'size' : ['small','medium','large','small','medium','large']})"
   ]
  },
  {
   "cell_type": "code",
   "execution_count": 21,
   "id": "2890c4dd-ce4c-450c-8709-2e3c4639632d",
   "metadata": {},
   "outputs": [],
   "source": [
    "## creating an instance of the ordinal encoder\n",
    "encoder = OrdinalEncoder(categories = [['small' , 'medium','large']])"
   ]
  },
  {
   "cell_type": "code",
   "execution_count": 23,
   "id": "9a139332-33d1-4d8d-ab45-cdab49122a1a",
   "metadata": {},
   "outputs": [
    {
     "data": {
      "text/plain": [
       "array([[0.],\n",
       "       [1.],\n",
       "       [2.],\n",
       "       [0.],\n",
       "       [1.],\n",
       "       [2.]])"
      ]
     },
     "execution_count": 23,
     "metadata": {},
     "output_type": "execute_result"
    }
   ],
   "source": [
    "encoder.fit_transform(df2[['size']])"
   ]
  },
  {
   "cell_type": "code",
   "execution_count": null,
   "id": "46cdb897-4bca-4fcd-b228-fde7ba58a9f6",
   "metadata": {},
   "outputs": [],
   "source": []
  }
 ],
 "metadata": {
  "kernelspec": {
   "display_name": "Python 3 (ipykernel)",
   "language": "python",
   "name": "python3"
  },
  "language_info": {
   "codemirror_mode": {
    "name": "ipython",
    "version": 3
   },
   "file_extension": ".py",
   "mimetype": "text/x-python",
   "name": "python",
   "nbconvert_exporter": "python",
   "pygments_lexer": "ipython3",
   "version": "3.10.8"
  }
 },
 "nbformat": 4,
 "nbformat_minor": 5
}
