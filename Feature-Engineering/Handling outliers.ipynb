{
 "cells": [
  {
   "cell_type": "markdown",
   "id": "3fb91792-2f0e-4e81-8cfc-a177f51f4363",
   "metadata": {},
   "source": [
    "#### Handling outliers\n",
    "- Min\n",
    "- Q1\n",
    "- median\n",
    "- Q2\n",
    "- Max"
   ]
  },
  {
   "cell_type": "code",
   "execution_count": 1,
   "id": "41eb722c-6301-4f9a-bb08-f6ea4e88cb0a",
   "metadata": {},
   "outputs": [],
   "source": [
    "import numpy as np\n",
    "lst_marks = [45,40,30,75,80,60,44,55,66,56,49,69,78,81,1000,100001]"
   ]
  },
  {
   "cell_type": "code",
   "execution_count": null,
   "id": "06c9c1f7-4c72-44b9-9b2d-65e6767b8bad",
   "metadata": {},
   "outputs": [],
   "source": [
    "### outlier **** LOWER FENCE<--> HIGHER FENCE **** outlier"
   ]
  },
  {
   "cell_type": "code",
   "execution_count": 4,
   "id": "1f2b5394-e32b-4e24-b839-9ca6da3e33b9",
   "metadata": {},
   "outputs": [
    {
     "name": "stdout",
     "output_type": "stream",
     "text": [
      "[48.]\n"
     ]
    }
   ],
   "source": [
    "Q1 = np.percentile(lst_marks, [25])\n",
    "print(Q1)"
   ]
  },
  {
   "cell_type": "code",
   "execution_count": 6,
   "id": "5da51bee-1568-4654-b27a-fecd6d8048d6",
   "metadata": {},
   "outputs": [],
   "source": [
    "minimum,Q1,Q2,Q3,maximum = np.quantile(lst_marks,[0,0.25,0.50,0.75,1.0])"
   ]
  },
  {
   "cell_type": "code",
   "execution_count": 7,
   "id": "75ac1586-dcb9-40f8-b1fc-9f45531b3369",
   "metadata": {},
   "outputs": [
    {
     "data": {
      "text/plain": [
       "100001.0"
      ]
     },
     "execution_count": 7,
     "metadata": {},
     "output_type": "execute_result"
    }
   ],
   "source": [
    "maximum"
   ]
  },
  {
   "cell_type": "code",
   "execution_count": 9,
   "id": "54e3d0bc-e998-4b3a-b687-7d5e0aa31d31",
   "metadata": {},
   "outputs": [
    {
     "name": "stdout",
     "output_type": "stream",
     "text": [
      "30.5\n"
     ]
    }
   ],
   "source": [
    "## calculating the inter quartile range(IQR)\n",
    "IQR = Q3-Q1\n",
    "print(IQR)"
   ]
  },
  {
   "cell_type": "code",
   "execution_count": 15,
   "id": "5d77c7f4-bb48-4daa-a34f-42faecf80b62",
   "metadata": {},
   "outputs": [],
   "source": [
    "lower_fence = Q1-1.5*(IQR)\n",
    "higher_fence = Q3+1.5*(IQR)"
   ]
  },
  {
   "cell_type": "code",
   "execution_count": 16,
   "id": "4b3f8344-7582-4b70-8cb4-322afff7977b",
   "metadata": {},
   "outputs": [
    {
     "name": "stdout",
     "output_type": "stream",
     "text": [
      "2.25 124.25\n"
     ]
    }
   ],
   "source": [
    "print(lower_fence , higher_fence)"
   ]
  },
  {
   "cell_type": "code",
   "execution_count": 19,
   "id": "ad24520e-e0a1-422e-88ac-ba2bd39be7c4",
   "metadata": {},
   "outputs": [
    {
     "name": "stdout",
     "output_type": "stream",
     "text": [
      "element is not outlier\n",
      "element is not outlier\n",
      "element is not outlier\n",
      "element is not outlier\n",
      "element is not outlier\n",
      "element is not outlier\n",
      "element is not outlier\n",
      "element is not outlier\n",
      "element is not outlier\n",
      "element is not outlier\n",
      "element is not outlier\n",
      "element is not outlier\n",
      "element is not outlier\n",
      "element is not outlier\n"
     ]
    }
   ],
   "source": [
    "outlier = []\n",
    "for i in lst_marks:\n",
    "    if  i >= 2.25 and i <= 124.25 :\n",
    "        print(\"element is not outlier\")\n",
    "    else:\n",
    "        outlier.append(i)"
   ]
  },
  {
   "cell_type": "code",
   "execution_count": 20,
   "id": "855c625f-e27b-4cbf-9a0c-8b05eebb536a",
   "metadata": {},
   "outputs": [
    {
     "data": {
      "text/plain": [
       "[1000, 100001]"
      ]
     },
     "execution_count": 20,
     "metadata": {},
     "output_type": "execute_result"
    }
   ],
   "source": [
    "outlier"
   ]
  },
  {
   "cell_type": "code",
   "execution_count": 21,
   "id": "0e969e7a-82dc-4928-aa01-e21bc18d7fac",
   "metadata": {},
   "outputs": [
    {
     "data": {
      "text/plain": [
       "<AxesSubplot: >"
      ]
     },
     "execution_count": 21,
     "metadata": {},
     "output_type": "execute_result"
    },
    {
     "data": {
      "image/png": "[encoded data removed]",
      "text/plain": [
       "<Figure size 640x480 with 1 Axes>"
      ]
     },
     "metadata": {},
     "output_type": "display_data"
    }
   ],
   "source": [
    "import seaborn as sns\n",
    "sns.boxplot(lst_marks)"
   ]
  },
  {
   "cell_type": "code",
   "execution_count": 22,
   "id": "07893229-4318-4f62-bfcb-00c518e920ed",
   "metadata": {},
   "outputs": [
    {
     "data": {
      "text/plain": [
       "<AxesSubplot: >"
      ]
     },
     "execution_count": 22,
     "metadata": {},
     "output_type": "execute_result"
    },
    {
     "data": {
      "image/png": "[encoded data removed]",
      "text/plain": [
       "<Figure size 640x480 with 1 Axes>"
      ]
     },
     "metadata": {},
     "output_type": "display_data"
    }
   ],
   "source": [
    "lst_marks = [45,40,30,75,80,60,44,55,66,56,49,69,78,81]\n",
    "sns.boxplot(lst_marks)"
   ]
  },
  {
   "cell_type": "code",
   "execution_count": null,
   "id": "e8f4aa66-5e9b-4bc3-8cfb-1ff3c6b6c278",
   "metadata": {},
   "outputs": [],
   "source": []
  }
 ],
 "metadata": {
  "kernelspec": {
   "display_name": "Python 3 (ipykernel)",
   "language": "python",
   "name": "python3"
  },
  "language_info": {
   "codemirror_mode": {
    "name": "ipython",
    "version": 3
   },
   "file_extension": ".py",
   "mimetype": "text/x-python",
   "name": "python",
   "nbconvert_exporter": "python",
   "pygments_lexer": "ipython3",
   "version": "3.10.8"
  }
 },
 "nbformat": 4,
 "nbformat_minor": 5
}
