{
 "cells": [
  {
   "cell_type": "markdown",
   "id": "a66b75bb",
   "metadata": {},
   "source": [
    "### What is data binning?\n",
    "\n",
    "Data binning, bucketing is a data pre-processing method used to minimize the effects of small observation errors. The original data values are divided into small intervals known as bins and then they are replaced by a general value calculated for that bin. This has a smoothing effect on the input data and may also reduce the chances of overfitting in the case of small datasets.\n",
    "It is used to convert numerical data into Discretre or Categorical.\n",
    "\n",
    "\n",
    "Binning is useful for :\n",
    "- To handel outliers better.\n",
    "- To improve valu e spread.\n",
    "\n",
    "------------------------------------------------------------\n",
    "#### Binning classes:-\n",
    ">UNSUPERVISED BINNING\n",
    "\n",
    "- Equal width(Uniform)\n",
    "- Equal frequency(Quantile)\n",
    "- K Means \n",
    "\n",
    ">SUPERVISED BINNING\n",
    "\n",
    "- Decision Tree Binning\n",
    "\n",
    ">CUSTOM BINNING "
   ]
  },
  {
   "cell_type": "markdown",
   "id": "a4e35e26",
   "metadata": {},
   "source": [
    " ##### Custom Binning :-"
   ]
  },
  {
   "cell_type": "code",
   "execution_count": 1,
   "id": "0cf73f21",
   "metadata": {},
   "outputs": [],
   "source": [
    "import pandas as pd\n",
    "import numpy as np\n"
   ]
  },
  {
   "cell_type": "code",
   "execution_count": 2,
   "id": "c91c2db7",
   "metadata": {},
   "outputs": [],
   "source": [
    "marks = {\"Students\" :[\"Prakash\", \"Kishan\" ,\" Kshitieej\", \"Raunak\" , \"Sankalp\" , \"Prem\",\"Rittick\",\"Sourab\"],\n",
    "         \"Marks\":[98,88,58,69,40,88,77,50]}"
   ]
  },
  {
   "cell_type": "code",
   "execution_count": 3,
   "id": "0aaf2880",
   "metadata": {},
   "outputs": [],
   "source": [
    "marks_data = pd.DataFrame(marks)"
   ]
  },
  {
   "cell_type": "code",
   "execution_count": 4,
   "id": "85438aa8",
   "metadata": {},
   "outputs": [
    {
     "data": {
      "text/html": [
       "<div>\n",
       "<style scoped>\n",
       "    .dataframe tbody tr th:only-of-type {\n",
       "        vertical-align: middle;\n",
       "    }\n",
       "\n",
       "    .dataframe tbody tr th {\n",
       "        vertical-align: top;\n",
       "    }\n",
       "\n",
       "    .dataframe thead th {\n",
       "        text-align: right;\n",
       "    }\n",
       "</style>\n",
       "<table border=\"1\" class=\"dataframe\">\n",
       "  <thead>\n",
       "    <tr style=\"text-align: right;\">\n",
       "      <th></th>\n",
       "      <th>Students</th>\n",
       "      <th>Marks</th>\n",
       "    </tr>\n",
       "  </thead>\n",
       "  <tbody>\n",
       "    <tr>\n",
       "      <th>0</th>\n",
       "      <td>Prakash</td>\n",
       "      <td>98</td>\n",
       "    </tr>\n",
       "    <tr>\n",
       "      <th>1</th>\n",
       "      <td>Kishan</td>\n",
       "      <td>88</td>\n",
       "    </tr>\n",
       "    <tr>\n",
       "      <th>2</th>\n",
       "      <td>Kshitieej</td>\n",
       "      <td>58</td>\n",
       "    </tr>\n",
       "    <tr>\n",
       "      <th>3</th>\n",
       "      <td>Raunak</td>\n",
       "      <td>69</td>\n",
       "    </tr>\n",
       "    <tr>\n",
       "      <th>4</th>\n",
       "      <td>Sankalp</td>\n",
       "      <td>40</td>\n",
       "    </tr>\n",
       "    <tr>\n",
       "      <th>5</th>\n",
       "      <td>Prem</td>\n",
       "      <td>88</td>\n",
       "    </tr>\n",
       "    <tr>\n",
       "      <th>6</th>\n",
       "      <td>Rittick</td>\n",
       "      <td>77</td>\n",
       "    </tr>\n",
       "    <tr>\n",
       "      <th>7</th>\n",
       "      <td>Sourab</td>\n",
       "      <td>50</td>\n",
       "    </tr>\n",
       "  </tbody>\n",
       "</table>\n",
       "</div>"
      ],
      "text/plain": [
       "     Students  Marks\n",
       "0     Prakash     98\n",
       "1      Kishan     88\n",
       "2   Kshitieej     58\n",
       "3      Raunak     69\n",
       "4     Sankalp     40\n",
       "5        Prem     88\n",
       "6     Rittick     77\n",
       "7      Sourab     50"
      ]
     },
     "execution_count": 4,
     "metadata": {},
     "output_type": "execute_result"
    }
   ],
   "source": [
    "marks_data"
   ]
  },
  {
   "cell_type": "markdown",
   "id": "89fe2a05",
   "metadata": {},
   "source": [
    "Note : Pandas cut() function is used to separate the array elements into different bins(We basically tell the bins we want, and it will create the bins irrespective of equal intervals).\n"
   ]
  },
  {
   "cell_type": "code",
   "execution_count": 5,
   "id": "401036ec",
   "metadata": {},
   "outputs": [],
   "source": [
    "bins = [0,20,45,75,100]\n",
    "\n",
    "# Groups names \n",
    "group_name = [\"Fail\",\"Pass\",\"Good\",\"Excellent\"]\n",
    "marks_data[\"grades\"] = pd.cut(marks_data[\"Marks\"],bins,labels =group_name)"
   ]
  },
  {
   "cell_type": "code",
   "execution_count": 6,
   "id": "ff7c5e4f",
   "metadata": {},
   "outputs": [
    {
     "data": {
      "text/html": [
       "<div>\n",
       "<style scoped>\n",
       "    .dataframe tbody tr th:only-of-type {\n",
       "        vertical-align: middle;\n",
       "    }\n",
       "\n",
       "    .dataframe tbody tr th {\n",
       "        vertical-align: top;\n",
       "    }\n",
       "\n",
       "    .dataframe thead th {\n",
       "        text-align: right;\n",
       "    }\n",
       "</style>\n",
       "<table border=\"1\" class=\"dataframe\">\n",
       "  <thead>\n",
       "    <tr style=\"text-align: right;\">\n",
       "      <th></th>\n",
       "      <th>Students</th>\n",
       "      <th>Marks</th>\n",
       "      <th>grades</th>\n",
       "    </tr>\n",
       "  </thead>\n",
       "  <tbody>\n",
       "    <tr>\n",
       "      <th>0</th>\n",
       "      <td>Prakash</td>\n",
       "      <td>98</td>\n",
       "      <td>Excellent</td>\n",
       "    </tr>\n",
       "    <tr>\n",
       "      <th>1</th>\n",
       "      <td>Kishan</td>\n",
       "      <td>88</td>\n",
       "      <td>Excellent</td>\n",
       "    </tr>\n",
       "    <tr>\n",
       "      <th>2</th>\n",
       "      <td>Kshitieej</td>\n",
       "      <td>58</td>\n",
       "      <td>Good</td>\n",
       "    </tr>\n",
       "    <tr>\n",
       "      <th>3</th>\n",
       "      <td>Raunak</td>\n",
       "      <td>69</td>\n",
       "      <td>Good</td>\n",
       "    </tr>\n",
       "    <tr>\n",
       "      <th>4</th>\n",
       "      <td>Sankalp</td>\n",
       "      <td>40</td>\n",
       "      <td>Pass</td>\n",
       "    </tr>\n",
       "    <tr>\n",
       "      <th>5</th>\n",
       "      <td>Prem</td>\n",
       "      <td>88</td>\n",
       "      <td>Excellent</td>\n",
       "    </tr>\n",
       "    <tr>\n",
       "      <th>6</th>\n",
       "      <td>Rittick</td>\n",
       "      <td>77</td>\n",
       "      <td>Excellent</td>\n",
       "    </tr>\n",
       "    <tr>\n",
       "      <th>7</th>\n",
       "      <td>Sourab</td>\n",
       "      <td>50</td>\n",
       "      <td>Good</td>\n",
       "    </tr>\n",
       "  </tbody>\n",
       "</table>\n",
       "</div>"
      ],
      "text/plain": [
       "     Students  Marks     grades\n",
       "0     Prakash     98  Excellent\n",
       "1      Kishan     88  Excellent\n",
       "2   Kshitieej     58       Good\n",
       "3      Raunak     69       Good\n",
       "4     Sankalp     40       Pass\n",
       "5        Prem     88  Excellent\n",
       "6     Rittick     77  Excellent\n",
       "7      Sourab     50       Good"
      ]
     },
     "execution_count": 6,
     "metadata": {},
     "output_type": "execute_result"
    }
   ],
   "source": [
    "marks_data"
   ]
  },
  {
   "cell_type": "markdown",
   "id": "47b5e915",
   "metadata": {},
   "source": [
    "\n",
    "\n",
    "\n"
   ]
  },
  {
   "cell_type": "markdown",
   "id": "e61b8b2e",
   "metadata": {},
   "source": [
    "#### Equal Width Binning :-"
   ]
  },
  {
   "cell_type": "markdown",
   "id": "135c7f47",
   "metadata": {},
   "source": [
    "Note :  In order to create equal size bins we will be using the qcut fucntion.\n",
    "++ In order to get the number of bins for equal intervals we will be using the below mentioned formula\n",
    "\n",
    "Advantage  - To handel outliers and there is no differnce in spread\n",
    "- n = number of bins \n",
    "> MAX(value)-Min(value)/n"
   ]
  },
  {
   "cell_type": "code",
   "execution_count": 10,
   "id": "9a5c6a15",
   "metadata": {},
   "outputs": [
    {
     "name": "stdout",
     "output_type": "stream",
     "text": [
      "98 40\n"
     ]
    }
   ],
   "source": [
    "max_marks = max(marks_data[\"Marks\"])\n",
    "min_marks = min(marks_data[\"Marks\"])\n",
    "print(max_marks,min_marks)"
   ]
  },
  {
   "cell_type": "code",
   "execution_count": 13,
   "id": "15de1b2f",
   "metadata": {},
   "outputs": [],
   "source": [
    "bins = 10\n",
    "marks_bins = (max_marks - min_marks) / bins"
   ]
  },
  {
   "cell_type": "code",
   "execution_count": 14,
   "id": "1f28f428",
   "metadata": {},
   "outputs": [
    {
     "name": "stdout",
     "output_type": "stream",
     "text": [
      "5.8\n"
     ]
    }
   ],
   "source": [
    "print(marks_bins)"
   ]
  },
  {
   "cell_type": "markdown",
   "id": "98be22df",
   "metadata": {},
   "source": [
    "#### Equal frequency binning :-"
   ]
  },
  {
   "cell_type": "markdown",
   "id": "65b8abb0",
   "metadata": {},
   "source": [
    "Suppose the interval is 10.\n",
    "Then the bins will be 10 percentile apart from each other, i.e they will show the percentile values below 10,20,30,40,... from the dataset.\n",
    "- This is used more often than equal width binning.\n",
    "- This is used to hadel outlier and imporves the value spread of the data.\n"
   ]
  },
  {
   "cell_type": "markdown",
   "id": "70fe8aba",
   "metadata": {},
   "source": [
    "#### K-Means Binning or Cluster binning:-"
   ]
  },
  {
   "cell_type": "markdown",
   "id": "0255d2bb",
   "metadata": {},
   "source": [
    "- It is used when the data is in cluster.\n",
    ">Suppose interval/Centroids is 5.\n",
    "Then we calculate the distance of all the data points with all the Centroids.\n",
    "The distance the data point to the centroid is evaluated.\n",
    "Then we shift the centroid, and iterate the process again.\n",
    "\n",
    "K-Means DIscritization is called from the sklearn library to perform this binning.\n",
    "\n",
    "Parameters used --  bins , strategy(uniform, quatile, K-means), encoding(ordinal , one-hot encoding)."
   ]
  },
  {
   "cell_type": "code",
   "execution_count": null,
   "id": "f71d06f5",
   "metadata": {},
   "outputs": [],
   "source": []
  }
 ],
 "metadata": {
  "kernelspec": {
   "display_name": "Python 3 (ipykernel)",
   "language": "python",
   "name": "python3"
  },
  "language_info": {
   "codemirror_mode": {
    "name": "ipython",
    "version": 3
   },
   "file_extension": ".py",
   "mimetype": "text/x-python",
   "name": "python",
   "nbconvert_exporter": "python",
   "pygments_lexer": "ipython3",
   "version": "3.9.13"
  }
 },
 "nbformat": 4,
 "nbformat_minor": 5
}
